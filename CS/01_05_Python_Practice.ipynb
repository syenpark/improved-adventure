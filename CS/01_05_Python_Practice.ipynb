{
 "cells": [
  {
   "cell_type": "code",
   "execution_count": 3,
   "metadata": {},
   "outputs": [
    {
     "name": "stdout",
     "output_type": "stream",
     "text": [
      "0\n",
      "2\n",
      "11\n",
      "15\n"
     ]
    }
   ],
   "source": [
    "\"\"\"You can use this class to represent how classy someone\n",
    "or something is.\n",
    "\"Classy\" is interchangable with \"fancy\".\n",
    "If you add fancy-looking items, you will increase\n",
    "your \"classiness\".\n",
    "Create a function in \"Classy\" that takes a string as\n",
    "input and adds it to the \"items\" list.\n",
    "Another method should calculate the \"classiness\"\n",
    "value based on the items.\n",
    "The following items have classiness points associated\n",
    "with them:\n",
    "\"tophat\" = 2\n",
    "\"bowtie\" = 4\n",
    "\"monocle\" = 5\n",
    "Everything else has 0 points.\n",
    "Use the test cases below to guide you!\"\"\"\n",
    "\n",
    "class Classy(object):\n",
    "    def __init__(self):\n",
    "        self.items = []\n",
    "        \n",
    "    def getClassiness(self):\n",
    "        return self.items.count(\"tophat\")*2 + self.items.count(\"bowtie\")*4 + self.items.count(\"monocle\")*5\n",
    "    \n",
    "    def addItem(self, item):\n",
    "        self.items.append(item)\n",
    "\n",
    "# Test cases\n",
    "me = Classy()\n",
    "\n",
    "# Should be 0\n",
    "print(me.getClassiness())\n",
    "\n",
    "me.addItem(\"tophat\")\n",
    "# Should be 2\n",
    "print(me.getClassiness())\n",
    "\n",
    "me.addItem(\"bowtie\")\n",
    "me.addItem(\"jacket\")\n",
    "me.addItem(\"monocle\")\n",
    "# Should be 11\n",
    "print(me.getClassiness())\n",
    "\n",
    "me.addItem(\"bowtie\")\n",
    "# Should be 15\n",
    "print(me.getClassiness())"
   ]
  }
 ],
 "metadata": {
  "kernelspec": {
   "display_name": "Python 3",
   "language": "python",
   "name": "python3"
  },
  "language_info": {
   "codemirror_mode": {
    "name": "ipython",
    "version": 3
   },
   "file_extension": ".py",
   "mimetype": "text/x-python",
   "name": "python",
   "nbconvert_exporter": "python",
   "pygments_lexer": "ipython3",
   "version": "3.6.8"
  }
 },
 "nbformat": 4,
 "nbformat_minor": 2
}

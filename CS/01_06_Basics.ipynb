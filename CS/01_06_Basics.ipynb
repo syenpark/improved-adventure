{
 "cells": [
  {
   "cell_type": "code",
   "execution_count": 2,
   "metadata": {},
   "outputs": [
    {
     "name": "stdout",
     "output_type": "stream",
     "text": [
      "I am super excited for this course! I am super excited for this course! I am super excited for this course! I am super excited for this course! I am super excited for this course! \n"
     ]
    }
   ],
   "source": [
    "# Write a function called \"show_excitement\" where the string\n",
    "# \"I am super excited for this course!\" is returned exactly\n",
    "# 5 times, where each sentence is separated by a single space.\n",
    "# Return the string with \"return\".\n",
    "# You can only have the string once in your code.\n",
    "# Don't just copy/paste it 5 times into a single variable!\n",
    "\n",
    "\n",
    "def show_excitement():\n",
    "    string = \"I am super excited for this course! \"\n",
    "    return string*5\n",
    "\n",
    "print(show_excitement())"
   ]
  }
 ],
 "metadata": {
  "kernelspec": {
   "display_name": "Python 3",
   "language": "python",
   "name": "python3"
  },
  "language_info": {
   "codemirror_mode": {
    "name": "ipython",
    "version": 3
   },
   "file_extension": ".py",
   "mimetype": "text/x-python",
   "name": "python",
   "nbconvert_exporter": "python",
   "pygments_lexer": "ipython3",
   "version": "3.6.8"
  }
 },
 "nbformat": 4,
 "nbformat_minor": 2
}

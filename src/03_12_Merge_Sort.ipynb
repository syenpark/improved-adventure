{
 "cells": [
  {
   "cell_type": "code",
   "execution_count": 13,
   "metadata": {},
   "outputs": [
    {
     "name": "stdout",
     "output_type": "stream",
     "text": [
      "[1, 3, 4, 6, 9, 14, 20, 21, 21, 25]\n"
     ]
    }
   ],
   "source": [
    "\"\"\"Implement quick sort in Python.\n",
    "Input a list.\n",
    "Output a sorted list.\"\"\"\n",
    "def merge_sort(array):\n",
    "    if len(array) > 1:\n",
    "        mid = len(array)//2\n",
    "        left_array = array[:mid]\n",
    "        right_array = array[mid:]\n",
    "        \n",
    "        merge_sort(left_array)\n",
    "        merge_sort(right_array)\n",
    "        \n",
    "        i = j = k = 0\n",
    "        \n",
    "        while i < len(left_array) and j < len(right_array):\n",
    "            if left_array[i] < right_array[j]:\n",
    "                array[k] = left_array[i]\n",
    "                i += 1\n",
    "            else:\n",
    "                array[k] = right_array[j]\n",
    "                j += 1\n",
    "                \n",
    "            k += 1\n",
    "            \n",
    "        while i < len(left_array):\n",
    "            array[k] = left_array[i]\n",
    "            i += 1\n",
    "            k += 1\n",
    "        \n",
    "        while j < len(right_array):\n",
    "            array[k] = right_array[j]\n",
    "            j += 1\n",
    "            k += 1\n",
    "    \n",
    "    return array\n",
    "\n",
    "test = [21, 4, 1, 3, 9, 20, 25, 6, 21, 14]\n",
    "print(merge_sort(test))"
   ]
  }
 ],
 "metadata": {
  "kernelspec": {
   "display_name": "Python 3",
   "language": "python",
   "name": "python3"
  },
  "language_info": {
   "codemirror_mode": {
    "name": "ipython",
    "version": 3
   },
   "file_extension": ".py",
   "mimetype": "text/x-python",
   "name": "python",
   "nbconvert_exporter": "python",
   "pygments_lexer": "ipython3",
   "version": "3.6.8"
  }
 },
 "nbformat": 4,
 "nbformat_minor": 2
}

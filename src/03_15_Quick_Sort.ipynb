{
 "cells": [
  {
   "cell_type": "code",
   "execution_count": 27,
   "metadata": {},
   "outputs": [
    {
     "name": "stdout",
     "output_type": "stream",
     "text": [
      "[1, 3, 4, 6, 9, 14, 20, 21, 21, 25]\n"
     ]
    }
   ],
   "source": [
    "\"\"\"Implement quick sort in Python.\n",
    "Input a list.\n",
    "Output a sorted list.\"\"\"\n",
    "def partition(array):\n",
    "    i = 0\n",
    "    pivot = array[0]\n",
    "        \n",
    "    for j in range(len(array)-1):\n",
    "        if array[j+1] < pivot:\n",
    "            # Swap\n",
    "            array[j+1], array[i+1] = array[i+1], array[j+1]\n",
    "            i += 1\n",
    "            \n",
    "    return i\n",
    "\n",
    "def quicksort(array):\n",
    "    if len(array) < 2:\n",
    "        return array\n",
    "    else:\n",
    "        # Partition\n",
    "        i = partition(array)\n",
    "        \n",
    "        # Swap        \n",
    "        array[0], array[i] = array[i], array[0]\n",
    "        \n",
    "        left_array = quicksort(array[:i])\n",
    "        right_array = quicksort(array[i+1:])\n",
    "        \n",
    "        return left_array + [array[i]] + right_array\n",
    "\n",
    "test = [21, 4, 1, 3, 9, 20, 25, 6, 21, 14]\n",
    "print(quicksort(test))"
   ]
  }
 ],
 "metadata": {
  "kernelspec": {
   "display_name": "Python 3",
   "language": "python",
   "name": "python3"
  },
  "language_info": {
   "codemirror_mode": {
    "name": "ipython",
    "version": 3
   },
   "file_extension": ".py",
   "mimetype": "text/x-python",
   "name": "python",
   "nbconvert_exporter": "python",
   "pygments_lexer": "ipython3",
   "version": "3.6.8"
  }
 },
 "nbformat": 4,
 "nbformat_minor": 2
}
